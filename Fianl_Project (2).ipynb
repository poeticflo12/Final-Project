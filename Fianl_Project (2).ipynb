{
 "cells": [
  {
   "cell_type": "markdown",
   "metadata": {},
   "source": [
    "# <center><font color='blue'>IS362 Final Project  Fall 2020</center><font>"
   ]
  },
  {
   "cell_type": "markdown",
   "metadata": {},
   "source": [
    "![My_Text](https://encrypted-tbn0.gstatic.com/images?q=tbn%3AANd9GcSZtgSr9JkT6mwn474na4hRPHouehtMwM94lQ&usqp=CAU) "
   ]
  },
  {
   "cell_type": "markdown",
   "metadata": {},
   "source": [
    "# <center><font color='blue'>IS362 Final Project Tasks </center><font>\n",
    "\n",
    "* Download the 2012 SAT Results from the following location:  https://data.cityofnewyork.us/Environment/Water-Consumption-In-The-New-York-City/ia2d-e54m\n",
    "\n",
    "* Analyze the data set to ensure the dataset is in a consistent format\n",
    "\n",
    "* Import the required modules\n",
    "\n",
    "* Read the data set into dataframe\n",
    "\n",
    "* Validate the data\n",
    "\n",
    "* Do some data analysis with querys and charts\n",
    "\n",
    "* Draw a conclusion based on analysis about the Water Consumption in NYC"
   ]
  },
  {
   "cell_type": "markdown",
   "metadata": {},
   "source": [
    "##### Loaded CSV file that is used to read in Pandas DataFrame:"
   ]
  },
  {
   "cell_type": "code",
   "execution_count": 4,
   "metadata": {},
   "outputs": [],
   "source": [
    "import pandas as pd\n",
    "import matplotlib.pyplot as plt\n",
    "import numpy as np"
   ]
  },
  {
   "cell_type": "markdown",
   "metadata": {},
   "source": [
    "##### After importing the pandas module, reading the CSV file is done through .read_csv():"
   ]
  },
  {
   "cell_type": "code",
   "execution_count": 5,
   "metadata": {},
   "outputs": [],
   "source": [
    "df_NY_Water = pd.read_csv(r'C:\\Users\\MATTHEWS-PC\\Downloads\\Water_Consumption_In_The_New_York_City.csv')"
   ]
  },
  {
   "cell_type": "markdown",
   "metadata": {},
   "source": [
    "##### Inspect that datatype of that data that is being read."
   ]
  },
  {
   "cell_type": "code",
   "execution_count": 6,
   "metadata": {},
   "outputs": [
    {
     "data": {
      "text/plain": [
       "Year             int64\n",
       "Population     float64\n",
       "Consumption    float64\n",
       "GPP              int64\n",
       "dtype: object"
      ]
     },
     "execution_count": 6,
     "metadata": {},
     "output_type": "execute_result"
    }
   ],
   "source": [
    "df_NY_Water_dtype_check = df_NY_Water.dtypes\n",
    "df_NY_Water_dtype_check"
   ]
  },
  {
   "cell_type": "markdown",
   "metadata": {},
   "source": [
    "##### Using head() to display the first 10 rows of the data: "
   ]
  },
  {
   "cell_type": "code",
   "execution_count": 7,
   "metadata": {},
   "outputs": [
    {
     "data": {
      "text/html": [
       "<div>\n",
       "<style scoped>\n",
       "    .dataframe tbody tr th:only-of-type {\n",
       "        vertical-align: middle;\n",
       "    }\n",
       "\n",
       "    .dataframe tbody tr th {\n",
       "        vertical-align: top;\n",
       "    }\n",
       "\n",
       "    .dataframe thead th {\n",
       "        text-align: right;\n",
       "    }\n",
       "</style>\n",
       "<table border=\"1\" class=\"dataframe\">\n",
       "  <thead>\n",
       "    <tr style=\"text-align: right;\">\n",
       "      <th></th>\n",
       "      <th>Year</th>\n",
       "      <th>Population</th>\n",
       "      <th>Consumption</th>\n",
       "      <th>GPP</th>\n",
       "    </tr>\n",
       "  </thead>\n",
       "  <tbody>\n",
       "    <tr>\n",
       "      <th>0</th>\n",
       "      <td>1979</td>\n",
       "      <td>7102100.0</td>\n",
       "      <td>1512.0</td>\n",
       "      <td>213</td>\n",
       "    </tr>\n",
       "    <tr>\n",
       "      <th>1</th>\n",
       "      <td>1980</td>\n",
       "      <td>7071639.0</td>\n",
       "      <td>1506.0</td>\n",
       "      <td>213</td>\n",
       "    </tr>\n",
       "    <tr>\n",
       "      <th>2</th>\n",
       "      <td>1981</td>\n",
       "      <td>7089241.0</td>\n",
       "      <td>1309.0</td>\n",
       "      <td>185</td>\n",
       "    </tr>\n",
       "    <tr>\n",
       "      <th>3</th>\n",
       "      <td>1982</td>\n",
       "      <td>7109105.0</td>\n",
       "      <td>1382.0</td>\n",
       "      <td>194</td>\n",
       "    </tr>\n",
       "    <tr>\n",
       "      <th>4</th>\n",
       "      <td>1983</td>\n",
       "      <td>7181224.0</td>\n",
       "      <td>1424.0</td>\n",
       "      <td>198</td>\n",
       "    </tr>\n",
       "    <tr>\n",
       "      <th>5</th>\n",
       "      <td>1984</td>\n",
       "      <td>7234514.0</td>\n",
       "      <td>1465.0</td>\n",
       "      <td>203</td>\n",
       "    </tr>\n",
       "    <tr>\n",
       "      <th>6</th>\n",
       "      <td>1985</td>\n",
       "      <td>7274054.0</td>\n",
       "      <td>1326.0</td>\n",
       "      <td>182</td>\n",
       "    </tr>\n",
       "    <tr>\n",
       "      <th>7</th>\n",
       "      <td>1986</td>\n",
       "      <td>7319246.0</td>\n",
       "      <td>1351.0</td>\n",
       "      <td>185</td>\n",
       "    </tr>\n",
       "    <tr>\n",
       "      <th>8</th>\n",
       "      <td>1987</td>\n",
       "      <td>7342476.0</td>\n",
       "      <td>1447.0</td>\n",
       "      <td>197</td>\n",
       "    </tr>\n",
       "    <tr>\n",
       "      <th>9</th>\n",
       "      <td>1988</td>\n",
       "      <td>7353719.0</td>\n",
       "      <td>1484.0</td>\n",
       "      <td>202</td>\n",
       "    </tr>\n",
       "  </tbody>\n",
       "</table>\n",
       "</div>"
      ],
      "text/plain": [
       "   Year  Population  Consumption  GPP\n",
       "0  1979   7102100.0       1512.0  213\n",
       "1  1980   7071639.0       1506.0  213\n",
       "2  1981   7089241.0       1309.0  185\n",
       "3  1982   7109105.0       1382.0  194\n",
       "4  1983   7181224.0       1424.0  198\n",
       "5  1984   7234514.0       1465.0  203\n",
       "6  1985   7274054.0       1326.0  182\n",
       "7  1986   7319246.0       1351.0  185\n",
       "8  1987   7342476.0       1447.0  197\n",
       "9  1988   7353719.0       1484.0  202"
      ]
     },
     "execution_count": 7,
     "metadata": {},
     "output_type": "execute_result"
    }
   ],
   "source": [
    "df_NY_Water.head(10)"
   ]
  },
  {
   "cell_type": "code",
   "execution_count": 8,
   "metadata": {},
   "outputs": [],
   "source": [
    "##### I counter each column to make sure that all rows have data that populated the fields."
   ]
  },
  {
   "cell_type": "code",
   "execution_count": 9,
   "metadata": {},
   "outputs": [
    {
     "data": {
      "text/plain": [
       "Year           41\n",
       "Population     41\n",
       "Consumption    41\n",
       "GPP            41\n",
       "dtype: int64"
      ]
     },
     "execution_count": 9,
     "metadata": {},
     "output_type": "execute_result"
    }
   ],
   "source": [
    "df_NY_Water_count = df_NY_Water.count()\n",
    "df_NY_Water_count"
   ]
  },
  {
   "cell_type": "markdown",
   "metadata": {},
   "source": [
    "#### This shows the water consumtion measure in Gallons."
   ]
  },
  {
   "cell_type": "code",
   "execution_count": 11,
   "metadata": {},
   "outputs": [
    {
     "data": {
      "text/plain": [
       "50129.0"
      ]
     },
     "execution_count": 11,
     "metadata": {},
     "output_type": "execute_result"
    }
   ],
   "source": [
    "Water = df_NY_Water.Consumption.sum()\n",
    "Water"
   ]
  },
  {
   "cell_type": "markdown",
   "metadata": {},
   "source": [
    "#### This shows the overall population"
   ]
  },
  {
   "cell_type": "code",
   "execution_count": 14,
   "metadata": {},
   "outputs": [
    {
     "data": {
      "text/plain": [
       "320131300.5"
      ]
     },
     "execution_count": 14,
     "metadata": {},
     "output_type": "execute_result"
    }
   ],
   "source": [
    "df_NY_Water.Population.sum()"
   ]
  },
  {
   "cell_type": "markdown",
   "metadata": {},
   "source": [
    "#### This shows the water consumption per person grouped by consumption"
   ]
  },
  {
   "cell_type": "code",
   "execution_count": 24,
   "metadata": {},
   "outputs": [
    {
     "data": {
      "text/plain": [
       "Consumption\n",
       "987.4     1\n",
       "990.2     1\n",
       "996.0     1\n",
       "1002.0    1\n",
       "1006.1    1\n",
       "1007.5    2\n",
       "1009.0    1\n",
       "1009.1    1\n",
       "1021.0    1\n",
       "1039.0    1\n",
       "1069.0    1\n",
       "1093.7    1\n",
       "1098.0    1\n",
       "1099.5    1\n",
       "1114.0    1\n",
       "1135.6    1\n",
       "1138.0    1\n",
       "1184.0    1\n",
       "1205.5    1\n",
       "1219.5    1\n",
       "1237.2    1\n",
       "1240.4    1\n",
       "1297.9    1\n",
       "1309.0    1\n",
       "1325.7    1\n",
       "1326.0    1\n",
       "1351.0    1\n",
       "1357.7    1\n",
       "1368.5    1\n",
       "1369.0    1\n",
       "1382.0    1\n",
       "1402.0    1\n",
       "1424.0    2\n",
       "1447.0    1\n",
       "1465.0    1\n",
       "1469.0    1\n",
       "1484.0    1\n",
       "1506.0    1\n",
       "1512.0    1\n",
       "Name: Consumption, dtype: int64"
      ]
     },
     "execution_count": 24,
     "metadata": {},
     "output_type": "execute_result"
    }
   ],
   "source": [
    "Water_Consumption_Per_Person = df_NY_Water.groupby('Consumption').Consumption.count()\n",
    "Water_Consumption_Per_Person"
   ]
  },
  {
   "cell_type": "markdown",
   "metadata": {},
   "source": [
    "#### #### Total Consumption person"
   ]
  },
  {
   "cell_type": "code",
   "execution_count": 37,
   "metadata": {},
   "outputs": [
    {
     "data": {
      "text/plain": [
       "Text(0, 0.5, 'values')"
      ]
     },
     "execution_count": 37,
     "metadata": {},
     "output_type": "execute_result"
    },
    {
     "data": {
      "image/png": "[encoded data removed]",
      "text/plain": [
       "<Figure size 432x288 with 1 Axes>"
      ]
     },
     "metadata": {
      "needs_background": "light"
     },
     "output_type": "display_data"
    }
   ],
   "source": [
    "Water_Consumption_Per_Person.plot.bar()\n",
    "plt.title('Water Consumption Per Person')\n",
    "plt.xlabel('Consumption')\n",
    "plt.ylabel('values')"
   ]
  },
  {
   "cell_type": "code",
   "execution_count": 44,
   "metadata": {},
   "outputs": [
    {
     "data": {
      "text/plain": [
       "Population\n",
       "7071639.0    213\n",
       "7089241.0    185\n",
       "7102100.0    213\n",
       "7109105.0    194\n",
       "7181224.0    198\n",
       "7234514.0    203\n",
       "7274054.0    182\n",
       "7319246.0    185\n",
       "7335650.0    194\n",
       "7342476.0    197\n",
       "7344175.0    191\n",
       "7353719.0    202\n",
       "7374501.0    199\n",
       "7428944.0    184\n",
       "7506166.0    182\n",
       "7570458.0    179\n",
       "7633040.0    174\n",
       "7697812.0    169\n",
       "7773443.0    155\n",
       "7858259.0    155\n",
       "7947660.0    156\n",
       "8008278.0    155\n",
       "8024963.5    148\n",
       "8041649.0    141\n",
       "8058334.5    136\n",
       "8075020.0    136\n",
       "8091705.5    141\n",
       "8108391.0    132\n",
       "8125076.5    137\n",
       "8141762.0    135\n",
       "8158447.5    123\n",
       "8175133.0    127\n",
       "8272963.0    123\n",
       "8336817.0    118\n",
       "8348032.0    121\n",
       "8398739.0    120\n",
       "8398748.0    120\n",
       "8437387.0    118\n",
       "8438271.0    117\n",
       "8468181.0    119\n",
       "8475976.0    118\n",
       "Name: GPP, dtype: int64"
      ]
     },
     "execution_count": 44,
     "metadata": {},
     "output_type": "execute_result"
    }
   ],
   "source": [
    "Consumption_by_GPP = df_NY_Water.groupby('Population').GPP.sum()\n",
    "Consumption_by_GPP"
   ]
  },
  {
   "cell_type": "markdown",
   "metadata": {},
   "source": [
    "#### Total Consumption by GPP"
   ]
  },
  {
   "cell_type": "code",
   "execution_count": 41,
   "metadata": {},
   "outputs": [
    {
     "data": {
      "text/plain": [
       "Text(0, 0.5, 'values')"
      ]
     },
     "execution_count": 41,
     "metadata": {},
     "output_type": "execute_result"
    },
    {
     "data": {
      "image/png": "[encoded data removed]",
      "text/plain": [
       "<Figure size 432x288 with 1 Axes>"
      ]
     },
     "metadata": {
      "needs_background": "light"
     },
     "output_type": "display_data"
    }
   ],
   "source": [
    "Consumption_by_GPP.plot.bar()\n",
    "plt.title('Water Consumption by GPP')\n",
    "plt.xlabel('GPP')\n",
    "plt.ylabel('values')"
   ]
  },
  {
   "cell_type": "markdown",
   "metadata": {},
   "source": [
    "#### Conclusion:\n",
    "#### Based on my analysis of the Water Consumption for NYC it can be concluded that as the Years go up the population increased the consumption of water seemed to decrease and this may have been attributed through technology that effeciently tranporting water to the the customers. This may also have been attributed to people ot being at hom as much, more indiviuals are working, going to college and school."
   ]
  }
 ],
 "metadata": {
  "kernelspec": {
   "display_name": "Python 3",
   "language": "python",
   "name": "python3"
  },
  "language_info": {
   "codemirror_mode": {
    "name": "ipython",
    "version": 3
   },
   "file_extension": ".py",
   "mimetype": "text/x-python",
   "name": "python",
   "nbconvert_exporter": "python",
   "pygments_lexer": "ipython3",
   "version": "3.8.3"
  }
 },
 "nbformat": 4,
 "nbformat_minor": 4
}
